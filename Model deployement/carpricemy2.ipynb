{
 "cells": [
  {
   "cell_type": "code",
   "execution_count": 11,
   "id": "6a187e3c",
   "metadata": {},
   "outputs": [],
   "source": [
    "from flask import Flask, render_template, request\n",
    "import requests\n",
    "import pickle\n",
    "import numpy as np\n",
    "import sklearn\n",
    "import joblib\n",
    "from sklearn.preprocessing import StandardScaler"
   ]
  },
  {
   "cell_type": "code",
   "execution_count": 12,
   "id": "e919cbc8",
   "metadata": {},
   "outputs": [],
   "source": [
    "app = Flask(__name__)\n",
    "model = pickle.load(open(r\"C:\\Users\\lalisharma\\Documents\\model\\reg3.pkl\", \"rb\"))\n",
    "@app.route('/',methods=['GET'])\n",
    "def Home():\n",
    "    return render_template('carprrice.html')\n"
   ]
  },
  {
   "cell_type": "code",
   "execution_count": 13,
   "id": "b6d59624",
   "metadata": {},
   "outputs": [],
   "source": [
    "standard_to = StandardScaler()\n",
    "@app.route(\"/predict\", methods=['POST'])\n",
    "def predict():\n",
    "    \n",
    "       \n",
    "    if request.method == 'POST':\n",
    "        year = int(request.form['year'])\n",
    "        km_driven=int(request.form['km_driven'])\n",
    "        mileage=float(request.form['mileage'])\n",
    "        engine=int(request.form['engine'])\n",
    "        max_power=int(request.form['max_power'])\n",
    "        seats=int(request.form['seats'])\n",
    "        fuel_Diesel=request.form['fuel_Diesel']\n",
    "        if(fuel_Diesel=='Petrol'):\n",
    "                fuel_LPG=0\n",
    "                fuel_Petrol=1\n",
    "                fuel_Diesel=0\n",
    "        elif(fuel_Diesel=='Diesel'):\n",
    "            fuel_LPG=0\n",
    "            fuel_Petrol=0\n",
    "            fuel_Diesel=1         \n",
    "        else:\n",
    "            fuel_LPG=0\n",
    "            fuel_Petrol=1\n",
    "            fuel_Diesel=0\n",
    "        seller_type_Individual=request.form['seller_type_Individual']\n",
    "        if(seller_type_Individual=='Individual'):\n",
    "            seller_type_Individual=1\n",
    "            seller_type_TrustmarkDealer=0\n",
    "        else:\n",
    "            seller_type_Individual=0\n",
    "            seller_type_TrustmarkDealer=1\n",
    "        transmission_Manual=request.form['transmission_Manual']\n",
    "        if(transmission_Manual=='Manual'):\n",
    "            transmission_Manual=1\n",
    "        else:\n",
    "            transmission_Manual=0\n",
    "        owner_FourthAboveOwner=request.form['owner_Fourth & Above Owner']\n",
    "        if(owner_FourthAboveOwner=='Fourth & Above Owner'):\n",
    "            owner_FourthAboveOwner=1\n",
    "            owner_SecondOwner=0\n",
    "            owner_TestDriveCar=0\n",
    "            owner_ThirdOwner=0\n",
    "        elif(owner_FourthAboveOwner=='Second Owner'):\n",
    "            owner_FourthAboveOwner=0\n",
    "            owner_SecondOwner=1\n",
    "            owner_TestDriveCar=0\n",
    "            owner_ThirdOwner=0\n",
    "        elif(owner_FourthAboveOwner=='Test Drive Car'):\n",
    "            owner_FourthAboveOwner=0\n",
    "            owner_SecondOwner=0\n",
    "            owner_TestDriveCar=0\n",
    "            owner_ThirdOwner=0\n",
    "        else:\n",
    "            owner_FourthAboveOwner=0\n",
    "            owner_SecondOwner=0\n",
    "            owner_TestDriveCar=1\n",
    "            owner_ThirdOwner=0\n",
    "        prediction=model.predict(np.array([[year, \n",
    "                                            km_driven,\n",
    "                                            mileage,\n",
    "                                            engine,\n",
    "                                            max_power,\n",
    "                                            seats,\n",
    "                                            fuel_Diesel,\n",
    "                                            fuel_LPG,\n",
    "                                            fuel_Petrol,\n",
    "                                            seller_type_Individual,\n",
    "                                            seller_type_TrustmarkDealer,\n",
    "                                            transmission_Manual,\n",
    "                                            owner_FourthAboveOwner,\n",
    "                                            owner_SecondOwner,\n",
    "                                            owner_TestDriveCar,\n",
    "                                            owner_ThirdOwner\n",
    "                                            ]]))\n",
    "        output=round(prediction[0],2)\n",
    "        if output<0:\n",
    "            return render_template('carprrice.html',prediction_texts=\"Sorry you cannot sell this car\")\n",
    "        else:\n",
    "            return render_template('carprrice.html',prediction_text=\"You can sell the Car at {} lakhs\".format(output))\n",
    "    else:\n",
    "        return render_template('carprrice.html')"
   ]
  },
  {
   "cell_type": "code",
   "execution_count": 14,
   "id": "f781087a",
   "metadata": {},
   "outputs": [
    {
     "name": "stdout",
     "output_type": "stream",
     "text": [
      " * Serving Flask app \"__main__\" (lazy loading)\n",
      " * Environment: production\n",
      "   WARNING: This is a development server. Do not use it in a production deployment.\n",
      "   Use a production WSGI server instead.\n",
      " * Debug mode: on\n"
     ]
    },
    {
     "name": "stderr",
     "output_type": "stream",
     "text": [
      " * Restarting with windowsapi reloader\n"
     ]
    },
    {
     "ename": "SystemExit",
     "evalue": "1",
     "output_type": "error",
     "traceback": [
      "An exception has occurred, use %tb to see the full traceback.\n",
      "\u001b[1;31mSystemExit\u001b[0m\u001b[1;31m:\u001b[0m 1\n"
     ]
    }
   ],
   "source": [
    "if __name__==\"__main__\":\n",
    "    app.run(debug=True)"
   ]
  },
  {
   "cell_type": "code",
   "execution_count": null,
   "id": "e72ecb1c",
   "metadata": {},
   "outputs": [],
   "source": []
  }
 ],
 "metadata": {
  "kernelspec": {
   "display_name": "Python 3",
   "language": "python",
   "name": "python3"
  },
  "language_info": {
   "codemirror_mode": {
    "name": "ipython",
    "version": 3
   },
   "file_extension": ".py",
   "mimetype": "text/x-python",
   "name": "python",
   "nbconvert_exporter": "python",
   "pygments_lexer": "ipython3",
   "version": "3.8.8"
  }
 },
 "nbformat": 4,
 "nbformat_minor": 5
}
